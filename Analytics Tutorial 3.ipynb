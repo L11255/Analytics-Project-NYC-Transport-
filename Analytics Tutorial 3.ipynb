{
 "cells": [
  {
   "cell_type": "code",
   "execution_count": 13,
   "id": "8a376e2d-a504-4f45-8561-0ebb52864af0",
   "metadata": {},
   "outputs": [
    {
     "name": "stdout",
     "output_type": "stream",
     "text": [
      "[['A', 'B'], ['C', 'D']]\n"
     ]
    }
   ],
   "source": [
    "my_list = [[\"A\", \"B\"],[ \"C\", \"D\"]]\n",
    "print (my_list)"
   ]
  },
  {
   "cell_type": "code",
   "execution_count": 14,
   "id": "b4b515e2-346b-4a46-b2bf-a4db23e92906",
   "metadata": {},
   "outputs": [
    {
     "name": "stdout",
     "output_type": "stream",
     "text": [
      "[['A', 'B'], ['C', 'D']]\n"
     ]
    }
   ],
   "source": [
    "def flatten_list(my_list):\n",
    "    # List comprehension to flatten the nested list\n",
    "    return [item for sublist in my_list for item in sublist]\n",
    "\n",
    "my_list = [[\"A\", \"B\"],[ \"C\", \"D\"]]\n",
    "print (my_list)\n"
   ]
  },
  {
   "cell_type": "code",
   "execution_count": 12,
   "id": "c2ed1e4e-66c5-430e-9757-15095c25fa95",
   "metadata": {},
   "outputs": [
    {
     "name": "stdout",
     "output_type": "stream",
     "text": [
      "['A', 'B', 'C', 'D']\n"
     ]
    }
   ],
   "source": [
    "# Call the function to flatten the list\n",
    "flattened = flatten_list(my_list)\n",
    "\n",
    "# Print the flattened list\n",
    "print(flattened)"
   ]
  },
  {
   "cell_type": "code",
   "execution_count": 19,
   "id": "1a84cdfe-2ba6-49e7-9d78-aa5903b62a64",
   "metadata": {},
   "outputs": [
    {
     "name": "stdout",
     "output_type": "stream",
     "text": [
      "5.0\n",
      "20.0\n"
     ]
    }
   ],
   "source": [
    "def div_by_num(num):\n",
    "    \"\"\"\n",
    "    Returns a function that takes one argument\n",
    "    and returns num divided by that argument.\n",
    "    \"\"\"\n",
    "    return lambda x: x / num  # The lambda function divides x by num\n",
    "\n",
    "# Example usage\n",
    "divide_by_5 = div_by_num(5)\n",
    "\n",
    "result = divide_by_5(25)\n",
    "print(result)  # Output: 5.0\n",
    "\n",
    "result2 = divide_by_5(100)\n",
    "print(result2)  # Output: 20.0\n"
   ]
  },
  {
   "cell_type": "code",
   "execution_count": 27,
   "id": "dc6e0e2c-e56a-41f9-b44f-2219853c58e4",
   "metadata": {},
   "outputs": [
    {
     "name": "stdout",
     "output_type": "stream",
     "text": [
      "[0, 1, 1, 2, 3, 5, 8, 13, 21, 34]\n"
     ]
    }
   ],
   "source": [
    "def fibonacci(n):  \n",
    "    fib_sequence = []\n",
    "    fib = lambda a, b: (b, a + b)  # Lambda function to compute the next Fibonacci numbers\n",
    "    a, b = 0, 1  # Starting values\n",
    "    for _ in range(n):\n",
    "        fib_sequence.append(a)  # Append the current Fibonacci number\n",
    "        a, b = fib(a, b)  # Update a and b using the lambda function\n",
    "\n",
    "    return fib_sequence\n",
    "\n",
    "# Example: Generate the first 10 Fibonacci numbers\n",
    "fibonacci_numbers = fibonacci(10)\n",
    "\n",
    "# Print the Fibonacci numbers\n",
    "print(fibonacci_numbers)"
   ]
  },
  {
   "cell_type": "code",
   "execution_count": null,
   "id": "e495786e-3163-43d6-80e1-a42cb080fb40",
   "metadata": {},
   "outputs": [],
   "source": [
    "import urllib.request\n",
    "\n",
    "def check_url(url):\n",
    "    try:\n",
    "        # Attempt to open the URL\n",
    "        response = urllib.request.urlopen(url)\n",
    "        print(f\"URL '{url}' is accessible. Status code: {response.getcode()}\")\n",
    "    except Exception as e:\n",
    "        # Print the error if the URL is not accessible\n",
    "        print(f\"Error accessing URL '{url}': {e}\")\n",
    "\n",
    "# Example usage\n",
    "url_to_check = input(\"Enter the URL to check: \")\n",
    "check_url(url_to_check)"
   ]
  },
  {
   "cell_type": "code",
   "execution_count": 32,
   "id": "560d9e40-0f63-4135-8d6f-64b5fc73b488",
   "metadata": {},
   "outputs": [],
   "source": [
    "import urllib.request\n",
    "def check_url (url):\n",
    "    try:\n",
    "        response = urllib.request.urlopen(url)\n",
    "        print(f\"url '{url}' is accessible. Status code: {response.getcode()}\")\n",
    "    except Exception as e:\n",
    "        print(f\"Error accessing URL '{url}': {e}\")"
   ]
  },
  {
   "cell_type": "code",
   "execution_count": null,
   "id": "71fdcca0-be31-4219-a728-29c706bb95fd",
   "metadata": {},
   "outputs": [],
   "source": []
  }
 ],
 "metadata": {
  "kernelspec": {
   "display_name": "Python 3 (ipykernel)",
   "language": "python",
   "name": "python3"
  },
  "language_info": {
   "codemirror_mode": {
    "name": "ipython",
    "version": 3
   },
   "file_extension": ".py",
   "mimetype": "text/x-python",
   "name": "python",
   "nbconvert_exporter": "python",
   "pygments_lexer": "ipython3",
   "version": "3.12.4"
  }
 },
 "nbformat": 4,
 "nbformat_minor": 5
}
