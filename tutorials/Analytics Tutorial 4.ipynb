{
 "cells": [
  {
   "cell_type": "markdown",
   "id": "f6b7532b-b949-4c00-a447-929c83ad9acb",
   "metadata": {},
   "source": [
    "# Regular Expressions"
   ]
  },
  {
   "cell_type": "code",
   "execution_count": 2,
   "id": "5e1bd793-2270-41f0-a016-15f95b0de781",
   "metadata": {},
   "outputs": [],
   "source": [
    "# 1. Create a Python function that uses regular expressions to extract decimal numbers (numbers with a fractional part) from a string. \n",
    "# Test your function with a variety of strings that contain and do not contain a decimal number.\n",
    "\n",
    "import re\n",
    "import numpy as np"
   ]
  },
  {
   "cell_type": "code",
   "execution_count": 4,
   "id": "4351bdf7-b4ac-43ef-aff7-920d1e44fe43",
   "metadata": {},
   "outputs": [
    {
     "name": "stdout",
     "output_type": "stream",
     "text": [
      "Extracted decimal numbers: ['22.5', '19.8']\n"
     ]
    }
   ],
   "source": [
    "def extract_decimal_numbers(input_string):\n",
    "    # Find all decimal numbers in the string\n",
    "    return re.findall(r'\\d+\\.\\d+', input_string)\n",
    "\n",
    "# Example usage\n",
    "input_string = \"The temperature today is 22.5 degrees, and yesterday it was 19.8.\"\n",
    "decimal_numbers = extract_decimal_numbers(input_string)\n",
    "print(\"Extracted decimal numbers:\", decimal_numbers)\n",
    "\n",
    "#How It Works:\n",
    "# re.findall(r'\\d+\\.\\d+', input_string): This finds all decimal numbers in the input string where:\n",
    "# \\d+ looks for one or more digits before the decimal point.\n",
    "# \\. represents the decimal point.\n",
    "# \\d+ looks for one or more digits after the decimal point.\n",
    "# The function returns a list of all decimal numbers found in the input string.\n"
   ]
  },
  {
   "cell_type": "code",
   "execution_count": 6,
   "id": "a3625146-4576-4032-a64a-49d0b5361ad1",
   "metadata": {},
   "outputs": [],
   "source": [
    "# 2. Write a Python function that uses regular expressions to convert a string to sentence case, \n",
    "# where only the first letter of the first would should be capitalised.\n",
    "# Do not worry about proper nouns in the string that should also be capitalised. \n",
    "# Test your function with a variety of strings."
   ]
  },
  {
   "cell_type": "code",
   "execution_count": 8,
   "id": "c70a153c-251b-4848-bc60-b9607f6cf013",
   "metadata": {},
   "outputs": [
    {
     "name": "stdout",
     "output_type": "stream",
     "text": [
      "Sentence Case: This is a test sentence.\n"
     ]
    }
   ],
   "source": [
    "def sentence_case(string_input):\n",
    "    return re.sub(r'^[a-z]', lambda match: match.group(0).upper(), string_input.lower())\n",
    "\n",
    "# Explanation:\n",
    "# re.sub(r'^[a-z]', lambda match: match.group(0).upper(), input_string.lower()):\n",
    "# r'^[a-z]' matches only the first lowercase alphabetic character at the start of the string.\n",
    "# lambda match: match.group(0).upper() converts that first match to uppercase.\n",
    "# input_string.lower() ensures the rest of the string is in lowercase.\n",
    "\n",
    "# Example usage\n",
    "test_string = \"tHIS is a TeST sentence.\"\n",
    "result = sentence_case(test_string)\n",
    "print(\"Sentence Case:\", result)"
   ]
  },
  {
   "cell_type": "code",
   "execution_count": 9,
   "id": "c0e6be36-b698-4e11-a875-a12a3c81b6e9",
   "metadata": {},
   "outputs": [],
   "source": [
    "# 3. Write a Python function that uses regular expressions to extract the year month and day from a string \n",
    "# containing the date expressed in either of the following formats: YYYY-MM- DD or DD/MM/YYYY. \n",
    "# Test your function with multiple sample strings."
   ]
  },
  {
   "cell_type": "code",
   "execution_count": 11,
   "id": "cbb7bbaf-f373-4ef5-bfcb-9cc10f654d98",
   "metadata": {},
   "outputs": [
    {
     "name": "stdout",
     "output_type": "stream",
     "text": [
      "('2024', '10', '10', None, None, None)\n",
      "(None, None, None, '10', '10', '2024')\n",
      "No valid date found\n"
     ]
    }
   ],
   "source": [
    "def extract_date(date_string):\n",
    "    match = re.search(r'(\\d{4})-(\\d{2})-(\\d{2})|(\\d{2})/(\\d{2})/(\\d{4})', date_string)\n",
    "    return match.groups() if match else \"No valid date found\"\n",
    "# Explanation:\n",
    "# The regular expression (\\d{4})-(\\d{2})-(\\d{2})|(\\d{2})/(\\d{2})/(\\d{4}) matches both formats (YYYY-MM-DD and DD/MM/YYYY).\n",
    "# match.groups() returns the captured groups, which include the year, month, and day.\n",
    "# If no match is found, the function returns \"No valid date found\".\n",
    "# (\\d{4})-(\\d{2})-(\\d{2}) matches the YYYY-MM-DD format.\n",
    "# (\\d{2})/(\\d{2})/(\\d{4}) matches the DD/MM/YYYY format.\n",
    "# The pipe |(or) allows the expression to match either format.\n",
    "# Example usage\n",
    "print(extract_date(\"2024-10-10\"))  # YYYY-MM-DD\n",
    "print(extract_date(\"10/10/2024\"))  # DD/MM/YYYY\n",
    "print(extract_date(\"Invalid 10-10-2024\"))  # Invalid format\n"
   ]
  },
  {
   "cell_type": "code",
   "execution_count": 12,
   "id": "85ea6f8c-bb84-496f-8d5c-042079367b0f",
   "metadata": {},
   "outputs": [
    {
     "name": "stdin",
     "output_type": "stream",
     "text": [
      "Enter a password (or type 'exit' to quit):  latifa\n"
     ]
    },
    {
     "name": "stdout",
     "output_type": "stream",
     "text": [
      "Password: 'latifa' is invalid.\n"
     ]
    },
    {
     "name": "stdin",
     "output_type": "stream",
     "text": [
      "Enter a password (or type 'exit' to quit):  LATifa\n"
     ]
    },
    {
     "name": "stdout",
     "output_type": "stream",
     "text": [
      "Password: 'LATifa' is invalid.\n"
     ]
    },
    {
     "name": "stdin",
     "output_type": "stream",
     "text": [
      "Enter a password (or type 'exit' to quit):  LATIfa123\n"
     ]
    },
    {
     "name": "stdout",
     "output_type": "stream",
     "text": [
      "Password: 'LATIfa123' is invalid.\n"
     ]
    },
    {
     "name": "stdin",
     "output_type": "stream",
     "text": [
      "Enter a password (or type 'exit' to quit):  Latifa123!\n"
     ]
    },
    {
     "name": "stdout",
     "output_type": "stream",
     "text": [
      "Password: 'Latifa123!' is valid.\n"
     ]
    },
    {
     "name": "stdin",
     "output_type": "stream",
     "text": [
      "Enter a password (or type 'exit' to quit):  exit\n"
     ]
    },
    {
     "name": "stdout",
     "output_type": "stream",
     "text": [
      "Exiting the program.\n"
     ]
    }
   ],
   "source": [
    "# 4. Write a Python function that takes a single string representing a password. \n",
    "# Use regular expressions to check that the password meets the following minimum requirements:\n",
    "# • The length should be between 10 and 32 characters;\n",
    "# • ItcontainsonlyvisibleASCIIcharacters(letters,punctuationandspecialcharacters); • It has at least one upper case letter;\n",
    "# • It has at least one lower case letter;\n",
    "# • It has one or more numeric digits; and\n",
    "# • It has at least one special character.\n",
    "# The function should return True if the password meets all requirements and False other- wise.\n",
    "# Test the function on a number of password strings that either meet the requirements or do not.\n",
    "\n",
    "def check_password(password):\n",
    "    # Check if password length is valid\n",
    "    if not (10 <= len(password) <= 32):\n",
    "        return False\n",
    "    \n",
    "    # Check for at least one uppercase, one lowercase, one digit, and one special character\n",
    "    has_upper = re.search(r'[A-Z]', password)\n",
    "    has_lower = re.search(r'[a-z]', password)\n",
    "    has_digit = re.search(r'\\d', password)\n",
    "    has_special = re.search(r'[\\W_]', password)\n",
    "\n",
    "    return bool(has_upper and has_lower and has_digit and has_special)\n",
    "\n",
    "# User input loop\n",
    "while True:\n",
    "    password = input(\"Enter a password (or type 'exit' to quit): \")\n",
    "    \n",
    "    if password.lower() == 'exit':\n",
    "        print(\"Exiting the program.\")\n",
    "        break\n",
    "    \n",
    "    if check_password(password):\n",
    "        print(f\"Password: '{password}' is valid.\")\n",
    "    else:\n",
    "        print(f\"Password: '{password}' is invalid.\")\n"
   ]
  },
  {
   "cell_type": "code",
   "execution_count": 13,
   "id": "2fd3e6dc-0fd2-4edd-84d9-a036f8f0af60",
   "metadata": {},
   "outputs": [
    {
     "name": "stdout",
     "output_type": "stream",
     "text": [
      "Input: 'Contact us at support@example.com for more info.'\n",
      "Extracted Emails: ['support@example.com']\n",
      "\n",
      "Input: 'No email here!'\n",
      "Extracted Emails: []\n",
      "\n",
      "Input: 'My email is john.doe123@gmail.com.'\n",
      "Extracted Emails: ['john.doe123@gmail.com.']\n",
      "\n",
      "Input: 'Invalid email: john@.com'\n",
      "Extracted Emails: []\n",
      "\n",
      "Input: 'Reach out to help@my-site.org or info@my-site.com.'\n",
      "Extracted Emails: ['help@my-site.org', 'info@my-site.com.']\n",
      "\n"
     ]
    }
   ],
   "source": [
    "# 5. Write a Python function that takes a single string as its argument and uses regular expressions \n",
    "# to extract any properly formed email address that occurs in the string. \n",
    "# Test your function with multiple examples, including strings that do not contain email addresses.\n",
    "\n",
    "def extract_emails(text):\n",
    "    # Simple regex pattern for matching email addresses\n",
    "    pattern = r'\\S+@\\S+\\.\\S+'\n",
    "    \n",
    "    # Extract and return a list of email addresses\n",
    "    return re.findall(pattern, text)\n",
    "\n",
    "# Testing the function with different strings\n",
    "test_strings = [\n",
    "    \"Contact us at support@example.com for more info.\",\n",
    "    \"No email here!\",\n",
    "    \"My email is john.doe123@gmail.com.\",\n",
    "    \"Invalid email: john@.com\",\n",
    "    \"Reach out to help@my-site.org or info@my-site.com.\"\n",
    "]\n",
    "\n",
    "for test in test_strings:\n",
    "    emails = extract_emails(test)\n",
    "    print(f\"Input: '{test}'\")\n",
    "    print(f\"Extracted Emails: {emails}\\n\")"
   ]
  },
  {
   "cell_type": "code",
   "execution_count": null,
   "id": "cd545b65-a7a7-4e66-a0e3-d7deb7e8d38c",
   "metadata": {},
   "outputs": [],
   "source": []
  }
 ],
 "metadata": {
  "kernelspec": {
   "display_name": "Python 3 (ipykernel)",
   "language": "python",
   "name": "python3"
  },
  "language_info": {
   "codemirror_mode": {
    "name": "ipython",
    "version": 3
   },
   "file_extension": ".py",
   "mimetype": "text/x-python",
   "name": "python",
   "nbconvert_exporter": "python",
   "pygments_lexer": "ipython3",
   "version": "3.12.4"
  }
 },
 "nbformat": 4,
 "nbformat_minor": 5
}
