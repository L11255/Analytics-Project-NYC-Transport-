{
 "cells": [
  {
   "cell_type": "markdown",
   "id": "388b11cb-b5cf-4d0c-9290-256217fb7652",
   "metadata": {},
   "source": [
    "# NUMPY"
   ]
  },
  {
   "cell_type": "code",
   "execution_count": 3,
   "id": "477932e1-ad76-4f0e-bbfc-10150d34ef73",
   "metadata": {},
   "outputs": [],
   "source": [
    "import numpy as np"
   ]
  },
  {
   "cell_type": "code",
   "execution_count": 12,
   "id": "469091d1-8c51-4458-8edb-754075d2412c",
   "metadata": {},
   "outputs": [
    {
     "data": {
      "text/plain": [
       "array([[[ 0,  1,  2,  3],\n",
       "        [ 4,  5,  6,  7],\n",
       "        [ 8,  9, 10, 11]],\n",
       "\n",
       "       [[12, 13, 14, 15],\n",
       "        [16, 17, 18, 19],\n",
       "        [20, 21, 22, 23]]])"
      ]
     },
     "execution_count": 12,
     "metadata": {},
     "output_type": "execute_result"
    }
   ],
   "source": [
    "# Create an array with the arange() function and reshape the array as follows:\n",
    "# a = np.arange(24).reshape(2,3,4)\n",
    "# This gives us a 3-dimensional data structure. \n",
    "# You can think of it as being like 2 spreadsheet sheets where each sheet contains 3 rows of data and each row contains 4 columns.\n",
    "a = np.arange(24).reshape(2,3,4)\n",
    "a"
   ]
  },
  {
   "cell_type": "code",
   "execution_count": 26,
   "id": "602d366f-50d5-42c4-98e6-e5d2880f3082",
   "metadata": {},
   "outputs": [
    {
     "data": {
      "text/plain": [
       "array([0, 2, 3, 4])"
      ]
     },
     "execution_count": 26,
     "metadata": {},
     "output_type": "execute_result"
    }
   ],
   "source": [
    "# Use the ravel() function to flatten the ndarray. \n",
    "# Investigate the difference between ravel() and flatten()\n",
    "\n",
    "arr1 = [0,2,3,4]\n",
    "arr1 = np.array ([0,2,3,4])\n",
    "arr1"
   ]
  },
  {
   "cell_type": "code",
   "execution_count": 27,
   "id": "045c8101-69f5-4bdf-b276-be9c451aae09",
   "metadata": {},
   "outputs": [
    {
     "data": {
      "text/plain": [
       "array([0, 2, 3, 4])"
      ]
     },
     "execution_count": 27,
     "metadata": {},
     "output_type": "execute_result"
    }
   ],
   "source": [
    "arr1.ravel() #ravel stays the same even when the value for the original changes"
   ]
  },
  {
   "cell_type": "code",
   "execution_count": 28,
   "id": "1f2e994d-8f21-4ab9-ad38-fbf577089fbb",
   "metadata": {},
   "outputs": [
    {
     "data": {
      "text/plain": [
       "array([0, 2, 3, 4])"
      ]
     },
     "execution_count": 28,
     "metadata": {},
     "output_type": "execute_result"
    }
   ],
   "source": [
    "arr1.flatten() #flatten changes when the value for the original changes"
   ]
  },
  {
   "cell_type": "code",
   "execution_count": 32,
   "id": "7464654f-617e-41fd-a18e-7e214e842f64",
   "metadata": {},
   "outputs": [
    {
     "data": {
      "text/plain": [
       "array([[ 0,  1,  2,  3],\n",
       "       [ 4,  5,  6,  7],\n",
       "       [ 8,  9, 10, 11],\n",
       "       [12, 13, 14, 15],\n",
       "       [16, 17, 18, 19],\n",
       "       [20, 21, 22, 23]])"
      ]
     },
     "execution_count": 32,
     "metadata": {},
     "output_type": "execute_result"
    }
   ],
   "source": [
    "# Reshape the ndarray so that there are 6 rows and 4 columns\n",
    "arr2 = np.arange(24).reshape(6,4)\n",
    "arr2"
   ]
  },
  {
   "cell_type": "code",
   "execution_count": 34,
   "id": "b3566a84-4089-4c73-9714-1fb5e532db87",
   "metadata": {},
   "outputs": [
    {
     "data": {
      "text/plain": [
       "array([[ 0,  4,  8, 12, 16, 20],\n",
       "       [ 1,  5,  9, 13, 17, 21],\n",
       "       [ 2,  6, 10, 14, 18, 22],\n",
       "       [ 3,  7, 11, 15, 19, 23]])"
      ]
     },
     "execution_count": 34,
     "metadata": {},
     "output_type": "execute_result"
    }
   ],
   "source": [
    "# Find the transpose of the ndarray.\n",
    "arr2.transpose()"
   ]
  },
  {
   "cell_type": "code",
   "execution_count": 48,
   "id": "d2ff632c-bb50-4042-9f58-a81928234b98",
   "metadata": {},
   "outputs": [
    {
     "data": {
      "text/plain": [
       "array([[ 2,  3],\n",
       "       [ 6,  7],\n",
       "       [10, 11],\n",
       "       [14, 15],\n",
       "       [18, 19],\n",
       "       [22, 23],\n",
       "       [ 0,  1],\n",
       "       [ 4,  5],\n",
       "       [ 8,  9],\n",
       "       [12, 13],\n",
       "       [16, 17],\n",
       "       [20, 21]])"
      ]
     },
     "execution_count": 48,
     "metadata": {},
     "output_type": "execute_result"
    }
   ],
   "source": [
    "# Re-stack the rows of the transposed ndarray in reverse order.\n",
    "# Hint: the documentation for row_stack() function might be of help here.\n",
    "arr3 = np.row_stack(arr2[::-1])\n",
    "arr3"
   ]
  },
  {
   "cell_type": "code",
   "execution_count": 49,
   "id": "5dd144e7-e32a-49cb-8bf4-7980f914cf95",
   "metadata": {},
   "outputs": [
    {
     "data": {
      "text/plain": [
       "[array([[ 2],\n",
       "        [ 6],\n",
       "        [10],\n",
       "        [14],\n",
       "        [18],\n",
       "        [22],\n",
       "        [ 0],\n",
       "        [ 4],\n",
       "        [ 8],\n",
       "        [12],\n",
       "        [16],\n",
       "        [20]]),\n",
       " array([[ 3],\n",
       "        [ 7],\n",
       "        [11],\n",
       "        [15],\n",
       "        [19],\n",
       "        [23],\n",
       "        [ 1],\n",
       "        [ 5],\n",
       "        [ 9],\n",
       "        [13],\n",
       "        [17],\n",
       "        [21]])]"
      ]
     },
     "execution_count": 49,
     "metadata": {},
     "output_type": "execute_result"
    }
   ],
   "source": [
    "#  Split the resulting ndarray column-wise.\n",
    "# Hint: look at the documentation for the hsplit() function.\n",
    "split_arrays = np.hsplit(arr3,2)\n",
    "split_arrays"
   ]
  },
  {
   "cell_type": "markdown",
   "id": "a5cae7aa-308c-4ebb-be48-f139d9331c71",
   "metadata": {},
   "source": [
    "# NUMPY DATA OPERATIONS"
   ]
  },
  {
   "cell_type": "code",
   "execution_count": 50,
   "id": "1ffe4f4d-811c-40e4-acbb-df5eb586dfb0",
   "metadata": {},
   "outputs": [],
   "source": [
    "# You will need two data files (available on Moodle) for this part of the tutorial, the file AAPL.csv contains stock price data for Apple. \n",
    "# The file MSFT.csv contains stock price data for Microsoft.\n",
    "# 1. Use the loadtxt() function to load columns 5 and 7 (i.e., the closing price and the volume) from AAPL.csv.\n",
    "# 2. Use the loaded data to calculate the volume weighted average price for the stock (i.e., cal- culate the average price using the volume as weight values).\n",
    "# 3. Calculate the median value of the closing prices\n",
    "# 4. Calculate the variance of the closing prices.\n",
    "# 5. Use the loadtxt() function to load data from columns 3 and 4 (i.e., the high and low prices) from AAPL.csv.\n",
    "# 6. Find the highest of the high prices and the lowest of the low prices.\n",
    "# 7. Load data from column 5 of AAPL.csv. Also, load data from column 5 of MSFT.csv.\n",
    "# 8. CalculatethecovariancematrixoftheclosingpricesofAAPLandMSFT.Assigntheresult- ing covariance matrix to a new variable.\n",
    "# Hint: Use the cov() function.\n",
    "# 9. Return an ndarray containing only the values on the diagonal of the covariance matrix.\n",
    "# 10. Calculate the correlation coefficient of the closing prices of AAPL and MSFT."
   ]
  },
  {
   "cell_type": "code",
   "execution_count": 4,
   "id": "a5f62198-7863-4315-9b1c-0e29eef9a47e",
   "metadata": {},
   "outputs": [],
   "source": [
    "import numpy as np"
   ]
  },
  {
   "cell_type": "code",
   "execution_count": 6,
   "id": "f63eada4-fa07-475c-81ec-fdd48b001431",
   "metadata": {},
   "outputs": [],
   "source": [
    "# 1. Use the loadtxt() function to load columns 5 and 7 (i.e., the closing price and the volume) from AAPL.csv.\n",
    "ft = np.loadtxt('/Users/Latifa/Desktop/Semester 1/Analytics Programming/Tutorials/AAPL.csv',delimiter=',', skiprows=1, usecols=(4, 6))"
   ]
  },
  {
   "cell_type": "code",
   "execution_count": 7,
   "id": "04089ea6-33d0-4ccc-89b2-e6f74d996f6e",
   "metadata": {},
   "outputs": [
    {
     "data": {
      "text/plain": [
       "190.02952578964312"
      ]
     },
     "execution_count": 7,
     "metadata": {},
     "output_type": "execute_result"
    }
   ],
   "source": [
    "# 2. Use the loaded data to calculate the volume weighted average price for the stock\n",
    "arr1 = ft[:,0]\n",
    "arr2 = ft[:,1]\n",
    "weighted_average = np.sum(arr1*arr2)/np.sum(arr2)\n",
    "weighted_average"
   ]
  },
  {
   "cell_type": "code",
   "execution_count": 78,
   "id": "8069971c-92ba-49c9-b7dd-2722ff41ae77",
   "metadata": {},
   "outputs": [
    {
     "data": {
      "text/plain": [
       "197.0"
      ]
     },
     "execution_count": 78,
     "metadata": {},
     "output_type": "execute_result"
    }
   ],
   "source": [
    "# 3. Calculate the median value of the closing prices\n",
    "median = np.median(arr1)\n",
    "median"
   ]
  },
  {
   "cell_type": "code",
   "execution_count": 79,
   "id": "c06e0770-3a44-4421-845f-bdfeae7bc940",
   "metadata": {},
   "outputs": [
    {
     "data": {
      "text/plain": [
       "432.8804568188714"
      ]
     },
     "execution_count": 79,
     "metadata": {},
     "output_type": "execute_result"
    }
   ],
   "source": [
    "# 4. Calculate the variance of the closing prices.\n",
    "var = np.var(arr1)\n",
    "var"
   ]
  },
  {
   "cell_type": "code",
   "execution_count": 10,
   "id": "c457b7f6-cf37-4b18-be56-da69f465a384",
   "metadata": {},
   "outputs": [],
   "source": [
    "# 5. Use the loadtxt() function to load data from columns 3 and 4 (i.e., the high and low prices) from AAPL.csv.\n",
    "ft = np.loadtxt('/Users/Latifa/Desktop/Semester 1/Analytics Programming/Tutorials/AAPL.csv',delimiter=',', skiprows=1, usecols=(2, 3))"
   ]
  },
  {
   "cell_type": "code",
   "execution_count": 81,
   "id": "1a71d6bf-0e86-4ad2-9251-089e2d861a0a",
   "metadata": {},
   "outputs": [],
   "source": [
    "# 6. Find the highest of the high prices and the lowest of the low prices.\n",
    "arr3 = ft[:,0]\n",
    "arr4 = ft[:,1]"
   ]
  },
  {
   "cell_type": "code",
   "execution_count": 82,
   "id": "adbab1c6-c765-4d4c-8955-60cdd3a61037",
   "metadata": {},
   "outputs": [
    {
     "data": {
      "text/plain": [
       "229.929993"
      ]
     },
     "execution_count": 82,
     "metadata": {},
     "output_type": "execute_result"
    }
   ],
   "source": [
    "highest = np.max(arr3)\n",
    "highest"
   ]
  },
  {
   "cell_type": "code",
   "execution_count": 84,
   "id": "a7275782-88d1-458d-8544-37e50a18f455",
   "metadata": {},
   "outputs": [
    {
     "data": {
      "text/plain": [
       "142.0"
      ]
     },
     "execution_count": 84,
     "metadata": {},
     "output_type": "execute_result"
    }
   ],
   "source": [
    "lowest = np.min(arr4)\n",
    "lowest"
   ]
  },
  {
   "cell_type": "code",
   "execution_count": 11,
   "id": "eafd1ee0-cae3-4de5-8f30-3af551df75b7",
   "metadata": {},
   "outputs": [],
   "source": [
    "# 7. Load data from column 5 of AAPL.csv. Also, load data from column 5 of MSFT.csv.\n",
    "ft = np.loadtxt('/Users/Latifa/Desktop/Semester 1/Analytics Programming/Tutorials/AAPL.csv',delimiter=',', skiprows=1, usecols=(4))\n",
    "lt = np.loadtxt('/Users/Latifa/Desktop/Semester 1/Analytics Programming/Tutorials/MSFT.csv',delimiter=',', skiprows=1, usecols=(4))"
   ]
  },
  {
   "cell_type": "code",
   "execution_count": 94,
   "id": "a713e671-4b71-4cbc-9528-a8ff5aef7fdc",
   "metadata": {},
   "outputs": [],
   "source": [
    "# 8. CalculatethecovariancematrixoftheclosingpricesofAAPLandMSFT.Assigntheresulting covariance matrix to a new variable.\n",
    "arr5 = ft[:]\n",
    "arr6 = lt[:]"
   ]
  },
  {
   "cell_type": "code",
   "execution_count": 98,
   "id": "dc64dc01-610d-444e-b251-560b9d2c5d82",
   "metadata": {},
   "outputs": [
    {
     "data": {
      "text/plain": [
       "array([[434.60508015, 186.97834783],\n",
       "       [186.97834783, 184.73421932]])"
      ]
     },
     "execution_count": 98,
     "metadata": {},
     "output_type": "execute_result"
    }
   ],
   "source": [
    "covariance = np.cov(arr5,arr6)\n",
    "covariance"
   ]
  },
  {
   "cell_type": "code",
   "execution_count": 99,
   "id": "c37c98ef-d873-48a7-9b90-b24692d989a9",
   "metadata": {},
   "outputs": [
    {
     "data": {
      "text/plain": [
       "array([434.60508015, 184.73421932])"
      ]
     },
     "execution_count": 99,
     "metadata": {},
     "output_type": "execute_result"
    }
   ],
   "source": [
    "# 9. Return an ndarray containing only the values on the diagonal of the covariance matrix.\n",
    "diagonal = np.diag(covariance)\n",
    "diagonal"
   ]
  },
  {
   "cell_type": "code",
   "execution_count": 100,
   "id": "8f4976ec-273f-4b8e-bb39-977f6d7249b1",
   "metadata": {},
   "outputs": [
    {
     "data": {
      "text/plain": [
       "array([[1.        , 0.65988802],\n",
       "       [0.65988802, 1.        ]])"
      ]
     },
     "execution_count": 100,
     "metadata": {},
     "output_type": "execute_result"
    }
   ],
   "source": [
    "# 10. Calculate the correlation coefficient of the closing prices of AAPL and MSFT.\n",
    "correlation = np.corrcoef(arr5,arr6)\n",
    "correlation"
   ]
  },
  {
   "cell_type": "code",
   "execution_count": null,
   "id": "5f8abed1-5f74-4ed9-b936-7866ed6ab406",
   "metadata": {},
   "outputs": [],
   "source": []
  }
 ],
 "metadata": {
  "kernelspec": {
   "display_name": "Python 3 (ipykernel)",
   "language": "python",
   "name": "python3"
  },
  "language_info": {
   "codemirror_mode": {
    "name": "ipython",
    "version": 3
   },
   "file_extension": ".py",
   "mimetype": "text/x-python",
   "name": "python",
   "nbconvert_exporter": "python",
   "pygments_lexer": "ipython3",
   "version": "3.12.4"
  }
 },
 "nbformat": 4,
 "nbformat_minor": 5
}
